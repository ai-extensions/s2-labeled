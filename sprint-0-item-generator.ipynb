{
 "cells": [
  {
   "cell_type": "markdown",
   "metadata": {},
   "source": [
    "## Label Generation Notebook\n",
    "\n",
    "The goal of this work is to generate a SpatioTemporal Asset Catalog (STAC) collection with labeled STAC Items using Sentinel-2 data for an area around Sacramento, California, USA.\n",
    "\n",
    "### Data Sources and Discovery\n",
    "\n",
    "The Sentinel-2 acquisitions are discovered using the STAC API with calibrated Sentinel-2 acquisitions available in Cloud Optimized Geotiff (COG) format.\n",
    "\n",
    "### Label Generation\n",
    "The labels for the Sentinel-2 scenes are generated automatically using the Sentinel-2 Scene Classification Band (SCL).\n",
    "\n",
    "The label classes are defined as follows:\n",
    "\n",
    "```yaml\n",
    "NO_DATA\n",
    "SATURATED_OR_DEFECTIVE\n",
    "CAST_SHADOWS\n",
    "CLOUD_SHADOWS\n",
    "VEGETATION\n",
    "NOT_VEGETATED\n",
    "WATER\n",
    "UNCLASSIFIED\n",
    "CLOUD_MEDIUM_PROBABILITY\n",
    "CLOUD_HIGH_PROBABILITY\n",
    "THIN_CIRRUS\n",
    "SNOW or ICE\n",
    "```\n",
    "\n",
    "Each label STAC Item includes a link to the source data used for the labeling task.\n",
    "\n",
    "### Implementation Details\n",
    "\n",
    "The notebook uses the PySTAC library to work with STAC data and the PySTAC-Client library to interact with the STAC API. The utils.py file contains utility functions used in the notebook.\n",
    "\n",
    "The notebook consists of the following code cells:\n",
    "\n",
    "Cell importing required libraries and packages.\n",
    "Cell for reading the STAC collection from a JSON file and ingesting it into the STAC API endpoint.\n",
    "Cell for accessing the STAC API catalog and defining the query parameters (collection, dates, bounding box, and cloud cover) to discover Sentinel-2 scenes.\n",
    "Cell for selecting specific items based on their IDs, corresponding to specific Sentinel-2 tiles of interest.\n",
    "Cells for defining label classes and lookup dictionaries used for generating labels.\n",
    "Cells for generating and delivering labels for each selected Sentinel-2 scene. Each labeled scene is ingested into the STAC API endpoint as a label STAC Item.\n",
    "\n",
    "The notebook generates labeled STAC Items for the following Sentinel-2 scenes:\n",
    "\n",
    "* S2A_10SFG_20230618_0_L2A\n",
    "* S2A_10SGG_20230618_0_L2A\n",
    "* S2A_11SKB_20230618_0_L2A\n",
    "* S2A_10SFH_20230618_0_L2A\n",
    "* S2B_10SFG_20230613_0_L2A\n",
    "\n",
    "Note: The notebook uses EPSG:4326 as the coordinate reference system (CRS) for the bounding box and coordinates in the queries.\n",
    "\n",
    "\n",
    "\n",
    "\n"
   ]
  },
  {
   "cell_type": "code",
   "execution_count": 2,
   "metadata": {},
   "outputs": [],
   "source": [
    "import pystac\n",
    "from datetime import datetime\n",
    "import os\n",
    "import json\n",
    "import numpy as np\n",
    "from pystac.extensions.label import LabelExtension\n",
    "from pystac.extensions.label import LabelType\n",
    "from pystac.extensions.label import LabelClasses\n",
    "from pystac import read_file\n",
    "from pystac.extensions.version import ItemVersionExtension\n",
    "from pystac_client import Client\n",
    "from geojson import Feature, Point, FeatureCollection\n",
    "import rasterio\n",
    "from loguru import logger\n",
    "\n",
    "from utils import (\n",
    "    StarsCopyWrapper,\n",
    "    ingest_collection,\n",
    "    read_url,\n",
    "    ingest_items,\n",
    "    convert_coordinates,\n",
    ")\n",
    "\n"
   ]
  },
  {
   "cell_type": "markdown",
   "metadata": {},
   "source": [
    "Read a STAC collection from a JSON file and ingests (uploads) it to a specified STAC API endpoint. The collection's metadata and assets become available for querying and access through the STAC API after ingestion."
   ]
  },
  {
   "cell_type": "code",
   "execution_count": 3,
   "metadata": {},
   "outputs": [
    {
     "name": "stderr",
     "output_type": "stream",
     "text": [
      "\u001b[32m2023-08-04 05:39:38.499\u001b[0m | \u001b[1mINFO    \u001b[0m | \u001b[36mutils\u001b[0m:\u001b[36mpost_or_put\u001b[0m:\u001b[36m252\u001b[0m - \u001b[1mhttps://stac-api-dev.terradue.com/collections 200\u001b[0m\n"
     ]
    }
   ],
   "source": [
    "collection = read_file(\"collection/collection.json\")\n",
    "\n",
    "stac_endpoint = \"https://stac-api-dev.terradue.com/\"\n",
    "\n",
    "ingest_collection(app_host=stac_endpoint, collection=collection)"
   ]
  },
  {
   "cell_type": "markdown",
   "metadata": {},
   "source": [
    "Establish access to a STAC Catalog located at the provided URL. The cat object represents the catalog, allowing exploration of its items, collections, and other STAC-related information through the STAC API. Custom headers are supported for API requests, and strict conformance checking of the STAC standard is bypassed for flexibility."
   ]
  },
  {
   "cell_type": "code",
   "execution_count": 4,
   "metadata": {},
   "outputs": [
    {
     "name": "stderr",
     "output_type": "stream",
     "text": [
      "/opt/conda/envs/env_label/lib/python3.10/site-packages/pystac_client/client.py:177: FutureWarning: The `ignore_conformance` option is deprecated and will be removed in the next major release. Instead use `set_conforms_to` or `add_conforms_to` to control behavior.\n",
      "  warnings.warn(\n"
     ]
    },
    {
     "data": {
      "text/html": [
       "&lt;Client id=earth-search-aws&gt;"
      ],
      "text/plain": [
       "<Client id=earth-search-aws>"
      ]
     },
     "execution_count": 4,
     "metadata": {},
     "output_type": "execute_result"
    }
   ],
   "source": [
    "# Access to Catalog\n",
    "URL = \"https://earth-search.aws.element84.com/v1/\"\n",
    "\n",
    "headers = []\n",
    "\n",
    "cat = Client.open(URL, headers=headers, ignore_conformance=True)\n",
    "cat"
   ]
  },
  {
   "cell_type": "markdown",
   "metadata": {},
   "source": [
    "A search query is made to a STAC Catalog. The query filters data based on the specified collection, time range, spatial extent (bounding box), and cloud cover percentage. The search result contains items that match the provided criteria, allowing access to relevant data for further analysis or processing."
   ]
  },
  {
   "cell_type": "code",
   "execution_count": 5,
   "metadata": {},
   "outputs": [],
   "source": [
    "# Collection\n",
    "collections = ([\"sentinel-2-l2a\"],)\n",
    "\n",
    "# Start and end dates\n",
    "start_date = datetime.fromisoformat(\"2023-06-09T00:00:00\")\n",
    "stop_date = datetime.fromisoformat(\"2023-06-20T00:00:00\")\n",
    "\n",
    "bbox = [-121.698, 37.457, -119.938, 38.295]\n",
    "\n",
    "# Other metadata\n",
    "cloud_cover = 30\n",
    "\n",
    "# Define EPSG code\n",
    "epsg = \"EPSG:4326\"\n",
    "\n",
    "# Query by AOI, start and end date and other params\n",
    "query = cat.search(\n",
    "    collections=collections,\n",
    "    datetime=(start_date, stop_date),\n",
    "    bbox=bbox,\n",
    "    query={\"eo:cloud_cover\": {\"lt\": 5}},\n",
    ")"
   ]
  },
  {
   "cell_type": "markdown",
   "metadata": {},
   "source": [
    "Filters and select specific items from a search query result based on the provided list of tile IDs (tiles). The items matching any of the tile IDs are stored in the selected_items list, enabling further processing or analysis of the data associated with those particular tiles."
   ]
  },
  {
   "cell_type": "code",
   "execution_count": 7,
   "metadata": {},
   "outputs": [
    {
     "name": "stderr",
     "output_type": "stream",
     "text": [
      "/opt/conda/envs/env_label/lib/python3.10/site-packages/pystac_client/item_search.py:841: FutureWarning: get_all_items() is deprecated, use item_collection() instead.\n",
      "  warnings.warn(\n"
     ]
    },
    {
     "data": {
      "text/plain": [
       "[<Item id=S2A_10SFG_20230618_0_L2A>,\n",
       " <Item id=S2A_10SGG_20230618_0_L2A>,\n",
       " <Item id=S2A_11SKB_20230618_0_L2A>,\n",
       " <Item id=S2A_10SFH_20230618_0_L2A>,\n",
       " <Item id=S2B_10SFG_20230613_0_L2A>,\n",
       " <Item id=S2B_10SFH_20230613_0_L2A>]"
      ]
     },
     "execution_count": 7,
     "metadata": {},
     "output_type": "execute_result"
    }
   ],
   "source": [
    "tiles = [\"10SFH\", \"10SFG\", \"10SGH\", \"11SKC\", \"10SGG\", \"11SKB\"]\n",
    "\n",
    "\n",
    "selected_items = [\n",
    "    item for item in query.get_all_items() if any(tile in item.id for tile in tiles)\n",
    "]\n",
    "selected_items"
   ]
  },
  {
   "cell_type": "markdown",
   "metadata": {},
   "source": [
    "Define a dictionary named `label_classes``, which represents classes for a classification task. The dictionary contains the class names for various land cover types, such as vegetation, water, clouds, shadows, and more. This mapping can be used to label and categorize data in a classification process."
   ]
  },
  {
   "cell_type": "code",
   "execution_count": 7,
   "metadata": {},
   "outputs": [],
   "source": [
    "label_classes = {\n",
    "    \"name\": \"CLASSIFICATION\",\n",
    "    \"classes\": [\n",
    "        \"NO_DATA\",\n",
    "        \"SATURATED_OR_DEFECTIVE\",\n",
    "        \"CAST_SHADOWS\",\n",
    "        \"CLOUD_SHADOWS\",\n",
    "        \"VEGETATION\",\n",
    "        \"NOT_VEGETATED\",\n",
    "        \"WATER\",\n",
    "        \"UNCLASSIFIED\",\n",
    "        \"CLOUD_MEDIUM_PROBABILITY\",\n",
    "        \"CLOUD_HIGH_PROBABILITY\",\n",
    "        \"THIN_CIRRUS\",\n",
    "        \"SNOW or ICE\",\n",
    "    ],\n",
    "}"
   ]
  },
  {
   "cell_type": "markdown",
   "metadata": {},
   "source": [
    "Define a dictionary named `look_up`, which serves as a mapping between integer codes and their corresponding class names. It is used to convert numerical class labels to descriptive names, enabling better interpretation and analysis in a classification task."
   ]
  },
  {
   "cell_type": "code",
   "execution_count": 8,
   "metadata": {},
   "outputs": [],
   "source": [
    "look_up = {\n",
    "    0: \"NO_DATA\",\n",
    "    1: \"SATURATED_OR_DEFECTIVE\",\n",
    "    2: \"CAST_SHADOWS\",\n",
    "    3: \"CLOUD_SHADOWS\",\n",
    "    4: \"VEGETATION\",\n",
    "    5: \"NOT_VEGETATED\",\n",
    "    6: \"WATER\",\n",
    "    7: \"UNCLASSIFIED\",\n",
    "    8: \"CLOUD_MEDIUM_PROBABILITY\",\n",
    "    9: \"CLOUD_HIGH_PROBABILITY\",\n",
    "    10: \"THIN_CIRRUS\",\n",
    "    11: \"SNOW or ICE\",\n",
    "}"
   ]
  },
  {
   "cell_type": "code",
   "execution_count": 9,
   "metadata": {},
   "outputs": [
    {
     "name": "stderr",
     "output_type": "stream",
     "text": [
      "\u001b[32m2023-08-03 07:02:46.200\u001b[0m | \u001b[1mINFO    \u001b[0m | \u001b[36m__main__\u001b[0m:\u001b[36m<module>\u001b[0m:\u001b[36m12\u001b[0m - \u001b[1mSource CRS: EPSG:32610\u001b[0m\n"
     ]
    },
    {
     "name": "stdout",
     "output_type": "stream",
     "text": [
      "Stars/2.10.17\n",
      "Trying to init a root catalog catalog on s3://argo-wfs/svv-dataset/S2A_10SFG_20230618_0_L2A/\n",
      "Root catalog catalog created at s3://argo-wfs/svv-dataset/S2A_10SFG_20230618_0_L2A/catalog.json\n",
      "Copy node label_S2A_10SFG_20230618_0_L2A from file:///workspaces/s2-labeled/item-label-S2A_10SFG_20230618_0_L2A.json\n",
      "[Native] Searching for file:///workspaces/s2-labeled/item-label-S2A_10SFG_20230618_0_L2A.json\n",
      "[Native] resource found at file:///workspaces/s2-labeled/item-label-S2A_10SFG_20230618_0_L2A.json [application/geo+json]\n",
      "Starting delivery of assets for labels\n",
      "Delivering asset labels Unknown file:///workspaces/s2-labeled/label-S2A_10SFG_20230618_0_L2A.geojson (S3Streaming) to s3://argo-wfs/svv-dataset/S2A_10SFG_20230618_0_L2A/label-S2A_10SFG_20230618_0_L2A.geojson...\n",
      "Delivery asset complete to s3://argo-wfs/svv-dataset/S2A_10SFG_20230618_0_L2A/label-S2A_10SFG_20230618_0_L2A.geojson (82.96 KB)\n",
      "\n",
      "s3://argo-wfs/svv-dataset/S2A_10SFG_20230618_0_L2A/catalog.json\n"
     ]
    },
    {
     "name": "stderr",
     "output_type": "stream",
     "text": [
      "\u001b[32m2023-08-03 07:04:11.625\u001b[0m | \u001b[1mINFO    \u001b[0m | \u001b[36mutils\u001b[0m:\u001b[36mingest_items\u001b[0m:\u001b[36m288\u001b[0m - \u001b[1mPost item label_S2A_10SFG_20230618_0_L2A to https://stac-api-dev.terradue.com//collections/ai-extensions-svv-dataset-labels/items\u001b[0m\n",
      "\u001b[32m2023-08-03 07:04:12.480\u001b[0m | \u001b[1mINFO    \u001b[0m | \u001b[36mutils\u001b[0m:\u001b[36mpost_or_put\u001b[0m:\u001b[36m249\u001b[0m - \u001b[1mhttps://stac-api-dev.terradue.com/collections/ai-extensions-svv-dataset-labels/items 200\u001b[0m\n"
     ]
    },
    {
     "name": "stdout",
     "output_type": "stream",
     "text": [
      "https://stac-api-dev.terradue.com/collections/ai-extensions-svv-dataset-labels/items/label_S2A_10SFG_20230618_0_L2A\n"
     ]
    },
    {
     "name": "stderr",
     "output_type": "stream",
     "text": [
      "\u001b[32m2023-08-03 07:04:15.959\u001b[0m | \u001b[1mINFO    \u001b[0m | \u001b[36m__main__\u001b[0m:\u001b[36m<module>\u001b[0m:\u001b[36m12\u001b[0m - \u001b[1mSource CRS: EPSG:32610\u001b[0m\n"
     ]
    },
    {
     "name": "stdout",
     "output_type": "stream",
     "text": [
      "Stars/2.10.17\n",
      "Trying to init a root catalog catalog on s3://argo-wfs/svv-dataset/S2A_10SGG_20230618_0_L2A/\n",
      "Root catalog catalog created at s3://argo-wfs/svv-dataset/S2A_10SGG_20230618_0_L2A/catalog.json\n",
      "Copy node label_S2A_10SGG_20230618_0_L2A from file:///workspaces/s2-labeled/item-label-S2A_10SGG_20230618_0_L2A.json\n",
      "[Native] Searching for file:///workspaces/s2-labeled/item-label-S2A_10SGG_20230618_0_L2A.json\n",
      "[Native] resource found at file:///workspaces/s2-labeled/item-label-S2A_10SGG_20230618_0_L2A.json [application/geo+json]\n",
      "Starting delivery of assets for labels\n",
      "Delivering asset labels Unknown file:///workspaces/s2-labeled/label-S2A_10SGG_20230618_0_L2A.geojson (S3Streaming) to s3://argo-wfs/svv-dataset/S2A_10SGG_20230618_0_L2A/label-S2A_10SGG_20230618_0_L2A.geojson...\n",
      "Delivery asset complete to s3://argo-wfs/svv-dataset/S2A_10SGG_20230618_0_L2A/label-S2A_10SGG_20230618_0_L2A.geojson (68.42 KB)\n",
      "\n",
      "s3://argo-wfs/svv-dataset/S2A_10SGG_20230618_0_L2A/catalog.json\n"
     ]
    },
    {
     "name": "stderr",
     "output_type": "stream",
     "text": [
      "\u001b[32m2023-08-03 07:05:01.319\u001b[0m | \u001b[1mINFO    \u001b[0m | \u001b[36mutils\u001b[0m:\u001b[36mingest_items\u001b[0m:\u001b[36m288\u001b[0m - \u001b[1mPost item label_S2A_10SGG_20230618_0_L2A to https://stac-api-dev.terradue.com//collections/ai-extensions-svv-dataset-labels/items\u001b[0m\n",
      "\u001b[32m2023-08-03 07:05:02.013\u001b[0m | \u001b[1mINFO    \u001b[0m | \u001b[36mutils\u001b[0m:\u001b[36mpost_or_put\u001b[0m:\u001b[36m249\u001b[0m - \u001b[1mhttps://stac-api-dev.terradue.com/collections/ai-extensions-svv-dataset-labels/items 200\u001b[0m\n"
     ]
    },
    {
     "name": "stdout",
     "output_type": "stream",
     "text": [
      "https://stac-api-dev.terradue.com/collections/ai-extensions-svv-dataset-labels/items/label_S2A_10SGG_20230618_0_L2A\n"
     ]
    },
    {
     "name": "stderr",
     "output_type": "stream",
     "text": [
      "\u001b[32m2023-08-03 07:05:05.293\u001b[0m | \u001b[1mINFO    \u001b[0m | \u001b[36m__main__\u001b[0m:\u001b[36m<module>\u001b[0m:\u001b[36m12\u001b[0m - \u001b[1mSource CRS: EPSG:32611\u001b[0m\n"
     ]
    },
    {
     "name": "stdout",
     "output_type": "stream",
     "text": [
      "Stars/2.10.17\n",
      "Trying to init a root catalog catalog on s3://argo-wfs/svv-dataset/S2A_11SKB_20230618_0_L2A/\n",
      "Root catalog catalog created at s3://argo-wfs/svv-dataset/S2A_11SKB_20230618_0_L2A/catalog.json\n",
      "Copy node label_S2A_11SKB_20230618_0_L2A from file:///workspaces/s2-labeled/item-label-S2A_11SKB_20230618_0_L2A.json\n",
      "[Native] Searching for file:///workspaces/s2-labeled/item-label-S2A_11SKB_20230618_0_L2A.json\n",
      "[Native] resource found at file:///workspaces/s2-labeled/item-label-S2A_11SKB_20230618_0_L2A.json [application/geo+json]\n",
      "Starting delivery of assets for labels\n",
      "Delivering asset labels Unknown file:///workspaces/s2-labeled/label-S2A_11SKB_20230618_0_L2A.geojson (S3Streaming) to s3://argo-wfs/svv-dataset/S2A_11SKB_20230618_0_L2A/label-S2A_11SKB_20230618_0_L2A.geojson...\n",
      "Delivery asset complete to s3://argo-wfs/svv-dataset/S2A_11SKB_20230618_0_L2A/label-S2A_11SKB_20230618_0_L2A.geojson (61.47 KB)\n",
      "\n",
      "s3://argo-wfs/svv-dataset/S2A_11SKB_20230618_0_L2A/catalog.json\n"
     ]
    },
    {
     "name": "stderr",
     "output_type": "stream",
     "text": [
      "\u001b[32m2023-08-03 07:05:31.479\u001b[0m | \u001b[1mINFO    \u001b[0m | \u001b[36mutils\u001b[0m:\u001b[36mingest_items\u001b[0m:\u001b[36m288\u001b[0m - \u001b[1mPost item label_S2A_11SKB_20230618_0_L2A to https://stac-api-dev.terradue.com//collections/ai-extensions-svv-dataset-labels/items\u001b[0m\n",
      "\u001b[32m2023-08-03 07:05:32.160\u001b[0m | \u001b[1mINFO    \u001b[0m | \u001b[36mutils\u001b[0m:\u001b[36mpost_or_put\u001b[0m:\u001b[36m249\u001b[0m - \u001b[1mhttps://stac-api-dev.terradue.com/collections/ai-extensions-svv-dataset-labels/items 200\u001b[0m\n"
     ]
    },
    {
     "name": "stdout",
     "output_type": "stream",
     "text": [
      "https://stac-api-dev.terradue.com/collections/ai-extensions-svv-dataset-labels/items/label_S2A_11SKB_20230618_0_L2A\n"
     ]
    },
    {
     "name": "stderr",
     "output_type": "stream",
     "text": [
      "\u001b[32m2023-08-03 07:05:35.525\u001b[0m | \u001b[1mINFO    \u001b[0m | \u001b[36m__main__\u001b[0m:\u001b[36m<module>\u001b[0m:\u001b[36m12\u001b[0m - \u001b[1mSource CRS: EPSG:32610\u001b[0m\n"
     ]
    },
    {
     "name": "stdout",
     "output_type": "stream",
     "text": [
      "Stars/2.10.17\n",
      "Trying to init a root catalog catalog on s3://argo-wfs/svv-dataset/S2A_10SFH_20230618_0_L2A/\n",
      "Root catalog catalog created at s3://argo-wfs/svv-dataset/S2A_10SFH_20230618_0_L2A/catalog.json\n",
      "Copy node label_S2A_10SFH_20230618_0_L2A from file:///workspaces/s2-labeled/item-label-S2A_10SFH_20230618_0_L2A.json\n",
      "[Native] Searching for file:///workspaces/s2-labeled/item-label-S2A_10SFH_20230618_0_L2A.json\n",
      "[Native] resource found at file:///workspaces/s2-labeled/item-label-S2A_10SFH_20230618_0_L2A.json [application/geo+json]\n",
      "Starting delivery of assets for labels\n",
      "Delivering asset labels Unknown file:///workspaces/s2-labeled/label-S2A_10SFH_20230618_0_L2A.geojson (S3Streaming) to s3://argo-wfs/svv-dataset/S2A_10SFH_20230618_0_L2A/label-S2A_10SFH_20230618_0_L2A.geojson...\n",
      "Delivery asset complete to s3://argo-wfs/svv-dataset/S2A_10SFH_20230618_0_L2A/label-S2A_10SFH_20230618_0_L2A.geojson (96.5 KB)\n",
      "\n",
      "s3://argo-wfs/svv-dataset/S2A_10SFH_20230618_0_L2A/catalog.json\n"
     ]
    },
    {
     "name": "stderr",
     "output_type": "stream",
     "text": [
      "\u001b[32m2023-08-03 07:06:48.059\u001b[0m | \u001b[1mINFO    \u001b[0m | \u001b[36mutils\u001b[0m:\u001b[36mingest_items\u001b[0m:\u001b[36m288\u001b[0m - \u001b[1mPost item label_S2A_10SFH_20230618_0_L2A to https://stac-api-dev.terradue.com//collections/ai-extensions-svv-dataset-labels/items\u001b[0m\n",
      "\u001b[32m2023-08-03 07:06:48.801\u001b[0m | \u001b[1mINFO    \u001b[0m | \u001b[36mutils\u001b[0m:\u001b[36mpost_or_put\u001b[0m:\u001b[36m249\u001b[0m - \u001b[1mhttps://stac-api-dev.terradue.com/collections/ai-extensions-svv-dataset-labels/items 200\u001b[0m\n"
     ]
    },
    {
     "name": "stdout",
     "output_type": "stream",
     "text": [
      "https://stac-api-dev.terradue.com/collections/ai-extensions-svv-dataset-labels/items/label_S2A_10SFH_20230618_0_L2A\n"
     ]
    },
    {
     "name": "stderr",
     "output_type": "stream",
     "text": [
      "\u001b[32m2023-08-03 07:06:51.986\u001b[0m | \u001b[1mINFO    \u001b[0m | \u001b[36m__main__\u001b[0m:\u001b[36m<module>\u001b[0m:\u001b[36m12\u001b[0m - \u001b[1mSource CRS: EPSG:32610\u001b[0m\n"
     ]
    },
    {
     "name": "stdout",
     "output_type": "stream",
     "text": [
      "Stars/2.10.17\n",
      "Trying to init a root catalog catalog on s3://argo-wfs/svv-dataset/S2B_10SFG_20230613_0_L2A/\n",
      "Root catalog catalog created at s3://argo-wfs/svv-dataset/S2B_10SFG_20230613_0_L2A/catalog.json\n",
      "Copy node label_S2B_10SFG_20230613_0_L2A from file:///workspaces/s2-labeled/item-label-S2B_10SFG_20230613_0_L2A.json\n",
      "[Native] Searching for file:///workspaces/s2-labeled/item-label-S2B_10SFG_20230613_0_L2A.json\n",
      "[Native] resource found at file:///workspaces/s2-labeled/item-label-S2B_10SFG_20230613_0_L2A.json [application/geo+json]\n",
      "Starting delivery of assets for labels\n",
      "Delivering asset labels Unknown file:///workspaces/s2-labeled/label-S2B_10SFG_20230613_0_L2A.geojson (S3Streaming) to s3://argo-wfs/svv-dataset/S2B_10SFG_20230613_0_L2A/label-S2B_10SFG_20230613_0_L2A.geojson...\n",
      "Delivery asset complete to s3://argo-wfs/svv-dataset/S2B_10SFG_20230613_0_L2A/label-S2B_10SFG_20230613_0_L2A.geojson (85.48 KB)\n",
      "\n",
      "s3://argo-wfs/svv-dataset/S2B_10SFG_20230613_0_L2A/catalog.json\n"
     ]
    },
    {
     "name": "stderr",
     "output_type": "stream",
     "text": [
      "\u001b[32m2023-08-03 07:08:23.710\u001b[0m | \u001b[1mINFO    \u001b[0m | \u001b[36mutils\u001b[0m:\u001b[36mingest_items\u001b[0m:\u001b[36m288\u001b[0m - \u001b[1mPost item label_S2B_10SFG_20230613_0_L2A to https://stac-api-dev.terradue.com//collections/ai-extensions-svv-dataset-labels/items\u001b[0m\n",
      "\u001b[32m2023-08-03 07:08:24.487\u001b[0m | \u001b[1mINFO    \u001b[0m | \u001b[36mutils\u001b[0m:\u001b[36mpost_or_put\u001b[0m:\u001b[36m249\u001b[0m - \u001b[1mhttps://stac-api-dev.terradue.com/collections/ai-extensions-svv-dataset-labels/items 200\u001b[0m\n"
     ]
    },
    {
     "name": "stdout",
     "output_type": "stream",
     "text": [
      "https://stac-api-dev.terradue.com/collections/ai-extensions-svv-dataset-labels/items/label_S2B_10SFG_20230613_0_L2A\n"
     ]
    },
    {
     "name": "stderr",
     "output_type": "stream",
     "text": [
      "\u001b[32m2023-08-03 07:08:28.276\u001b[0m | \u001b[1mINFO    \u001b[0m | \u001b[36m__main__\u001b[0m:\u001b[36m<module>\u001b[0m:\u001b[36m12\u001b[0m - \u001b[1mSource CRS: EPSG:32610\u001b[0m\n"
     ]
    },
    {
     "name": "stdout",
     "output_type": "stream",
     "text": [
      "Stars/2.10.17\n",
      "Trying to init a root catalog catalog on s3://argo-wfs/svv-dataset/S2B_10SFH_20230613_0_L2A/\n",
      "Root catalog catalog created at s3://argo-wfs/svv-dataset/S2B_10SFH_20230613_0_L2A/catalog.json\n",
      "Copy node label_S2B_10SFH_20230613_0_L2A from file:///workspaces/s2-labeled/item-label-S2B_10SFH_20230613_0_L2A.json\n",
      "[Native] Searching for file:///workspaces/s2-labeled/item-label-S2B_10SFH_20230613_0_L2A.json\n",
      "[Native] resource found at file:///workspaces/s2-labeled/item-label-S2B_10SFH_20230613_0_L2A.json [application/geo+json]\n",
      "Starting delivery of assets for labels\n",
      "Delivering asset labels Unknown file:///workspaces/s2-labeled/label-S2B_10SFH_20230613_0_L2A.geojson (S3Streaming) to s3://argo-wfs/svv-dataset/S2B_10SFH_20230613_0_L2A/label-S2B_10SFH_20230613_0_L2A.geojson...\n",
      "Delivery asset complete to s3://argo-wfs/svv-dataset/S2B_10SFH_20230613_0_L2A/label-S2B_10SFH_20230613_0_L2A.geojson (96.53 KB)\n",
      "\n",
      "s3://argo-wfs/svv-dataset/S2B_10SFH_20230613_0_L2A/catalog.json\n"
     ]
    },
    {
     "name": "stderr",
     "output_type": "stream",
     "text": [
      "\u001b[32m2023-08-03 07:09:35.777\u001b[0m | \u001b[1mINFO    \u001b[0m | \u001b[36mutils\u001b[0m:\u001b[36mingest_items\u001b[0m:\u001b[36m288\u001b[0m - \u001b[1mPost item label_S2B_10SFH_20230613_0_L2A to https://stac-api-dev.terradue.com//collections/ai-extensions-svv-dataset-labels/items\u001b[0m\n",
      "\u001b[32m2023-08-03 07:09:36.462\u001b[0m | \u001b[1mINFO    \u001b[0m | \u001b[36mutils\u001b[0m:\u001b[36mpost_or_put\u001b[0m:\u001b[36m249\u001b[0m - \u001b[1mhttps://stac-api-dev.terradue.com/collections/ai-extensions-svv-dataset-labels/items 200\u001b[0m\n"
     ]
    },
    {
     "name": "stdout",
     "output_type": "stream",
     "text": [
      "https://stac-api-dev.terradue.com/collections/ai-extensions-svv-dataset-labels/items/label_S2B_10SFH_20230613_0_L2A\n"
     ]
    }
   ],
   "source": [
    "np.random.seed(42)\n",
    "target_crs = \"EPSG:4326\"\n",
    "\n",
    "for index, item in enumerate(selected_items):\n",
    "    features = []\n",
    "    water_count = 0\n",
    "    non_water_count = 0\n",
    "\n",
    "    dataset = rasterio.open(item.get_assets()[\"scl\"].get_absolute_href())\n",
    "    crs_info = dataset.crs\n",
    "    src_crs = f\"EPSG:{crs_info.to_epsg()}\"\n",
    "    logger.info(f\"Source CRS: {src_crs}\")\n",
    "\n",
    "    xy = np.random.randint(1, 5490, size=(10000, 2))\n",
    "\n",
    "    x_values = []\n",
    "    y_values = []\n",
    "\n",
    "    for pos in xy:\n",
    "        # get the coordinates of the pixel\n",
    "        utm_x, utm_y = dataset.xy(int(pos[0]), int(pos[1]))\n",
    "\n",
    "        band_values = dataset.sample([(utm_x, utm_y)], 1)\n",
    "        observed = look_up[[val for val in band_values][0][0]]\n",
    "\n",
    "        if observed in [\"NO_DATA\", \"UNCLASSIFIED\", \"SATURATED_OR_DEFECTIVE\"]:\n",
    "            continue\n",
    "\n",
    "        longitude, latitude = convert_coordinates(src_crs, target_crs, utm_x, utm_y)\n",
    "\n",
    "        if observed in [\"WATER\"]:\n",
    "            if water_count <= 150:\n",
    "                features.append(\n",
    "                    Feature(\n",
    "                        geometry=Point((longitude, latitude)),\n",
    "                        properties={\"CLASSIFICATION\": observed},\n",
    "                    )\n",
    "                )\n",
    "                water_count = water_count + 1\n",
    "        else:\n",
    "            if non_water_count <= 150:\n",
    "                features.append(\n",
    "                    Feature(\n",
    "                        geometry=Point((longitude, latitude)),\n",
    "                        properties={\"CLASSIFICATION\": observed},\n",
    "                    )\n",
    "                )\n",
    "                non_water_count = non_water_count + 1\n",
    "\n",
    "        if water_count > 150:\n",
    "            break\n",
    "\n",
    "    with open(f\"label-{item.id}.geojson\", \"w\") as f:\n",
    "        json.dump(FeatureCollection(features), f, indent=4)\n",
    "\n",
    "    label_item = pystac.Item(\n",
    "        id=f\"label_{item.id}\",\n",
    "        geometry=item.geometry,\n",
    "        bbox=item.bbox,\n",
    "        datetime=datetime.utcnow(),\n",
    "        properties={},\n",
    "    )\n",
    "\n",
    "    label = LabelExtension.ext(label_item, add_if_missing=True)\n",
    "    label.apply(\n",
    "        label_description=\"Land cover labels\",\n",
    "        label_type=LabelType.VECTOR,\n",
    "        label_tasks=[\"segmentation\", \"regression\"],\n",
    "        label_classes=[LabelClasses(label_classes)],\n",
    "        label_methods=[\"manual\"],\n",
    "        label_properties=[\"CLASSIFICATION\"],\n",
    "    )\n",
    "    label.add_source(source_item=item)\n",
    "    label.add_geojson_labels(f\"label-{item.id}.geojson\")\n",
    "\n",
    "    version = ItemVersionExtension(label_item)\n",
    "\n",
    "    version.apply(version=\"0.1\", deprecated=False)\n",
    "\n",
    "    label_item.stac_extensions.extend(\n",
    "        [\"https://stac-extensions.github.io/version/v1.2.0/schema.json\"]\n",
    "    )\n",
    "\n",
    "    # label_item.validate()\n",
    "    pystac.write_file(label_item, dest_href=f\"item-label-{item.id}.json\")\n",
    "\n",
    "    wrapper = StarsCopyWrapper()\n",
    "\n",
    "    exit_code, stdout, stderr = (\n",
    "        wrapper.recursivity()\n",
    "        .output(f\"s3://argo-wfs/svv-dataset/{item.id}\")\n",
    "        .config_file(\"usersettings.json\")\n",
    "        .extract_archive(extract=False)\n",
    "        .absolute_assets()\n",
    "        .run(f\"file://{os.getcwd()}/item-label-{item.id}.json\")\n",
    "    )\n",
    "\n",
    "    print(stdout)\n",
    "    print(f\"s3://argo-wfs/svv-dataset/{item.id}/catalog.json\")\n",
    "    catalog = read_url(f\"s3://argo-wfs/svv-dataset/{item.id}/catalog.json\")\n",
    "\n",
    "    ingest_items(\n",
    "        app_host=stac_endpoint,\n",
    "        items=list(catalog.get_all_items()),\n",
    "        collection=collection,\n",
    "    )"
   ]
  },
  {
   "cell_type": "code",
   "execution_count": null,
   "metadata": {},
   "outputs": [],
   "source": []
  }
 ],
 "metadata": {
  "kernelspec": {
   "display_name": "Python 3",
   "language": "python",
   "name": "python3"
  },
  "language_info": {
   "codemirror_mode": {
    "name": "ipython",
    "version": 3
   },
   "file_extension": ".py",
   "mimetype": "text/x-python",
   "name": "python",
   "nbconvert_exporter": "python",
   "pygments_lexer": "ipython3",
   "version": "3.10.12"
  },
  "orig_nbformat": 4
 },
 "nbformat": 4,
 "nbformat_minor": 2
}
