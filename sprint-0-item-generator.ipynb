{
 "cells": [
  {
   "cell_type": "code",
   "execution_count": 1,
   "metadata": {},
   "outputs": [],
   "source": [
    "import pystac\n",
    "from pystac import Link, Asset\n",
    "from datetime import datetime\n",
    "import os\n",
    "from osgeo import gdal, ogr, osr\n",
    "from sklearn.model_selection import train_test_split\n",
    "import numpy as np\n",
    "import sys\n",
    "from pystac.extensions.label import LabelExtension\n",
    "from pystac.extensions.label import LabelType\n",
    "from pystac.extensions.label import LabelClasses\n",
    "from pystac.extensions.label import LabelStatistics\n",
    "\n",
    "from pystac.extensions.version import ItemVersionExtension\n",
    "from pystac_client import Client\n",
    "\n",
    "# sys.path.append(\".\")\n",
    "from utils import pixel_to_coords, to_geojson\n",
    "\n",
    "os.environ[\"GDAL_DATA\"] = \"/opt/conda/envs/env_label/share/gdal\"\n",
    "os.environ[\"PROJ_LIB\"] = \"/opt/conda/envs/env_label/share/proj\"\n",
    "\n",
    "import shapely.wkt"
   ]
  },
  {
   "cell_type": "code",
   "execution_count": 2,
   "metadata": {},
   "outputs": [
    {
     "name": "stderr",
     "output_type": "stream",
     "text": [
      "/opt/conda/envs/env_label/lib/python3.10/site-packages/pystac_client/client.py:177: FutureWarning: The `ignore_conformance` option is deprecated and will be removed in the next major release. Instead use `set_conforms_to` or `add_conforms_to` to control behavior.\n",
      "  warnings.warn(\n"
     ]
    },
    {
     "data": {
      "text/html": [
       "&lt;Client id=earth-search-aws&gt;"
      ],
      "text/plain": [
       "<Client id=earth-search-aws>"
      ]
     },
     "execution_count": 2,
     "metadata": {},
     "output_type": "execute_result"
    }
   ],
   "source": [
    "# Access to Catalog\n",
    "URL = \"https://earth-search.aws.element84.com/v1/\"\n",
    "\n",
    "headers = []\n",
    "\n",
    "cat = Client.open(URL, headers=headers, ignore_conformance=True)\n",
    "cat"
   ]
  },
  {
   "cell_type": "code",
   "execution_count": 3,
   "metadata": {},
   "outputs": [],
   "source": [
    "# Collection\n",
    "collections = ([\"sentinel-2-l2a\"],)\n",
    "\n",
    "# Start and end dates\n",
    "start_date = datetime.fromisoformat(\"2023-05-14T00:00:00\")\n",
    "stop_date = datetime.fromisoformat(\"2023-06-20T00:00:00\")\n",
    "\n",
    "bbox = [-121.698, 37.457, -119.938, 38.295]\n",
    "\n",
    "# Other metadata\n",
    "cloud_cover = 30\n",
    "\n",
    "# Define EPSG code\n",
    "epsg = \"EPSG:4326\""
   ]
  },
  {
   "cell_type": "code",
   "execution_count": 4,
   "metadata": {},
   "outputs": [],
   "source": [
    "# Query by AOI, start and end date and other params\n",
    "query = cat.search(\n",
    "    collections=collections,\n",
    "    datetime=(start_date, stop_date),\n",
    "    bbox=bbox,\n",
    "    query={\"eo:cloud_cover\": {\"lt\": 5}},\n",
    ")"
   ]
  },
  {
   "cell_type": "code",
   "execution_count": 5,
   "metadata": {},
   "outputs": [
    {
     "name": "stderr",
     "output_type": "stream",
     "text": [
      "/opt/conda/envs/env_label/lib/python3.10/site-packages/pystac_client/item_search.py:841: FutureWarning: get_all_items() is deprecated, use item_collection() instead.\n",
      "  warnings.warn(\n"
     ]
    },
    {
     "data": {
      "text/plain": [
       "[<Item id=S2A_10SFG_20230618_0_L2A>,\n",
       " <Item id=S2A_10SGG_20230618_0_L2A>,\n",
       " <Item id=S2A_11SKB_20230618_0_L2A>,\n",
       " <Item id=S2A_10SFH_20230618_0_L2A>,\n",
       " <Item id=S2B_10SFG_20230613_0_L2A>,\n",
       " <Item id=S2B_10SFH_20230613_0_L2A>,\n",
       " <Item id=S2B_10SFG_20230603_0_L2A>,\n",
       " <Item id=S2B_10SGG_20230603_0_L2A>,\n",
       " <Item id=S2B_11SKB_20230603_0_L2A>,\n",
       " <Item id=S2B_10SFH_20230603_0_L2A>,\n",
       " <Item id=S2B_10SGH_20230603_0_L2A>,\n",
       " <Item id=S2B_11SKC_20230603_0_L2A>,\n",
       " <Item id=S2B_10SFG_20230531_0_L2A>,\n",
       " <Item id=S2B_10SFH_20230531_0_L2A>,\n",
       " <Item id=S2A_10SFH_20230529_0_L2A>,\n",
       " <Item id=S2A_10SFG_20230526_0_L2A>,\n",
       " <Item id=S2A_10SFH_20230526_0_L2A>,\n",
       " <Item id=S2B_10SGG_20230524_0_L2A>,\n",
       " <Item id=S2B_11SKB_20230524_0_L2A>,\n",
       " <Item id=S2B_10SFG_20230521_0_L2A>,\n",
       " <Item id=S2B_10SGG_20230521_0_L2A>,\n",
       " <Item id=S2B_11SKB_20230521_0_L2A>,\n",
       " <Item id=S2B_10SFH_20230521_0_L2A>,\n",
       " <Item id=S2A_10SFG_20230519_0_L2A>,\n",
       " <Item id=S2A_10SGG_20230519_0_L2A>,\n",
       " <Item id=S2A_11SKB_20230519_0_L2A>,\n",
       " <Item id=S2A_10SFH_20230519_0_L2A>,\n",
       " <Item id=S2A_10SGH_20230519_0_L2A>,\n",
       " <Item id=S2A_11SKC_20230519_0_L2A>,\n",
       " <Item id=S2A_10SFG_20230516_0_L2A>,\n",
       " <Item id=S2A_10SFH_20230516_0_L2A>,\n",
       " <Item id=S2A_10SGH_20230516_0_L2A>,\n",
       " <Item id=S2A_11SKC_20230516_0_L2A>,\n",
       " <Item id=S2B_10SFG_20230514_0_L2A>,\n",
       " <Item id=S2B_10SGG_20230514_0_L2A>,\n",
       " <Item id=S2B_11SKB_20230514_0_L2A>]"
      ]
     },
     "execution_count": 5,
     "metadata": {},
     "output_type": "execute_result"
    }
   ],
   "source": [
    "tiles = [\"10SFH\", \"10SFG\", \"10SGH\", \"11SKC\", \"10SGG\", \"11SKB\"]\n",
    "\n",
    "\n",
    "selected_items = [\n",
    "    item for item in query.get_all_items() if any(tile in item.id for tile in tiles)\n",
    "]\n",
    "selected_items"
   ]
  },
  {
   "cell_type": "code",
   "execution_count": 6,
   "metadata": {},
   "outputs": [],
   "source": [
    "seeds = [42, 35, 2, 53, 101, 1]"
   ]
  },
  {
   "cell_type": "code",
   "execution_count": 7,
   "metadata": {},
   "outputs": [],
   "source": [
    "label_classes = {\n",
    "    \"name\": \"class\",\n",
    "    \"classes\": [\n",
    "        \"NO_DATA\",\n",
    "        \"SATURATED_OR_DEFECTIVE\",\n",
    "        \"CAST_SHADOWS\",\n",
    "        \"CLOUD_SHADOWS\",\n",
    "        \"VEGETATION\",\n",
    "        \"NOT_VEGETATED\",\n",
    "        \"WATER\",\n",
    "        \"UNCLASSIFIED\",\n",
    "        \"CLOUD_MEDIUM_PROBABILITY\",\n",
    "        \"CLOUD_HIGH_PROBABILITY\",\n",
    "        \"THIN_CIRRUS\",\n",
    "        \"SNOW or ICE\",\n",
    "    ],\n",
    "}"
   ]
  },
  {
   "cell_type": "code",
   "execution_count": 8,
   "metadata": {},
   "outputs": [],
   "source": [
    "look_up = {\n",
    "    0: \"NO_DATA\",\n",
    "    1: \"SATURATED_OR_DEFECTIVE\",\n",
    "    2: \"CAST_SHADOWS\",\n",
    "    3: \"CLOUD_SHADOWS\",\n",
    "    4: \"VEGETATION\",\n",
    "    5: \"NOT_VEGETATED\",\n",
    "    6: \"WATER\",\n",
    "    7: \"UNCLASSIFIED\",\n",
    "    8: \"CLOUD_MEDIUM_PROBABILITY\",\n",
    "    9: \"CLOUD_HIGH_PROBABILITY\",\n",
    "    10: \"THIN_CIRRUS\",\n",
    "    11: \"SNOW or ICE\",\n",
    "}"
   ]
  },
  {
   "cell_type": "code",
   "execution_count": 9,
   "metadata": {},
   "outputs": [],
   "source": [
    "\n",
    "\n",
    "for index, item in enumerate(selected_items):\n",
    "    \n",
    "    water_count = 0\n",
    "    non_water_count = 0\n",
    "\n",
    "    source = source = gdal.Open(\n",
    "        f\"/vsicurl/{item.get_assets()['scl'].get_absolute_href()}\"\n",
    "    )\n",
    "    scl = source.GetRasterBand(1)\n",
    "\n",
    "    np.random.seed(42)\n",
    "    xy = np.random.randint(1, 5490, size=(10000, 2))\n",
    "\n",
    "    x_values = []\n",
    "    y_values = []\n",
    "\n",
    "    for pos in xy:\n",
    "        observed = look_up[\n",
    "                int(\n",
    "                    scl.ReadAsArray(\n",
    "                        xoff=int(pos[0]), yoff=int(pos[1]), win_xsize=1, win_ysize=1\n",
    "                    )[0][0]\n",
    "                )\n",
    "            ]\n",
    "        \n",
    "        if observed in [\"NO_DATA\", \"UNCLASSIFIED\", \"SATURATED_OR_DEFECTIVE\"]:\n",
    "            continue\n",
    "        \n",
    "        if observed in [\"WATER\"]:\n",
    "            water_count = water_count + 1\n",
    "            if water_count <= 150: \n",
    "                x_values.append([*pixel_to_coords(source, pos[0], pos[1])])\n",
    "                y_values.append(observed)\n",
    "        else:\n",
    "            non_water_count = non_water_count + 1 \n",
    "            if non_water_count <= 150: \n",
    "                x_values.append([*pixel_to_coords(source, pos[0], pos[1])])\n",
    "                y_values.append(observed)   \n",
    "            \n",
    "        if water_count > 150:\n",
    "            break\n",
    "\n",
    "    to_geojson(f\"{item.id}\", x_values, y_values)\n",
    "\n",
    "    label_item = pystac.Item(\n",
    "        id=f\"label_{item.id}\",\n",
    "        geometry=item.geometry,\n",
    "        bbox=item.bbox,\n",
    "        datetime=datetime.utcnow(),\n",
    "        properties={},\n",
    "    )\n",
    "\n",
    "    label = LabelExtension.ext(label_item, add_if_missing=True)\n",
    "    label.apply(\n",
    "        label_description=\"Land cover labels\",\n",
    "        label_type=LabelType.VECTOR,\n",
    "        label_tasks=[\"segmentation\", \"regression\"],\n",
    "        label_classes=[LabelClasses(label_classes)],\n",
    "        label_methods=[\"manual\"],\n",
    "        label_properties=[\"class\"],\n",
    "    )\n",
    "    label.add_source(source_item=item)\n",
    "    label.add_geojson_labels(f\"label-{item.id}.geojson\")\n",
    "\n",
    "    version = ItemVersionExtension(label_item)\n",
    "\n",
    "    version.apply(version=\"0.1\", deprecated=False)\n",
    "\n",
    "    label_item.stac_extensions.append(\n",
    "        \"https://stac-extensions.github.io/version/v1.2.0/schema.json\"\n",
    "    )\n",
    "\n",
    "    label_item.validate()\n",
    "    pystac.write_file(label_item, dest_href=f\"item-label-{item.id}.json\")"
   ]
  },
  {
   "cell_type": "code",
   "execution_count": null,
   "metadata": {},
   "outputs": [],
   "source": []
  },
  {
   "cell_type": "code",
   "execution_count": null,
   "metadata": {},
   "outputs": [],
   "source": []
  },
  {
   "cell_type": "code",
   "execution_count": null,
   "metadata": {},
   "outputs": [],
   "source": []
  },
  {
   "cell_type": "code",
   "execution_count": null,
   "metadata": {},
   "outputs": [],
   "source": []
  },
  {
   "cell_type": "code",
   "execution_count": null,
   "metadata": {},
   "outputs": [],
   "source": []
  }
 ],
 "metadata": {
  "kernelspec": {
   "display_name": "Python 3",
   "language": "python",
   "name": "python3"
  },
  "language_info": {
   "codemirror_mode": {
    "name": "ipython",
    "version": 3
   },
   "file_extension": ".py",
   "mimetype": "text/x-python",
   "name": "python",
   "nbconvert_exporter": "python",
   "pygments_lexer": "ipython3",
   "version": "3.10.12"
  },
  "orig_nbformat": 4
 },
 "nbformat": 4,
 "nbformat_minor": 2
}
