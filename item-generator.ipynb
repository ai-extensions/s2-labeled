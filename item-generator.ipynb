{
 "cells": [
  {
   "cell_type": "code",
   "execution_count": 2,
   "metadata": {},
   "outputs": [],
   "source": [
    "import pystac\n",
    "from pystac import Link, Asset\n",
    "from datetime import datetime"
   ]
  },
  {
   "attachments": {},
   "cell_type": "markdown",
   "metadata": {},
   "source": [
    "# ML AOI STAC Extension"
   ]
  },
  {
   "cell_type": "code",
   "execution_count": 3,
   "metadata": {},
   "outputs": [],
   "source": [
    "from pystac.extensions.label import LabelExtension\n",
    "from pystac.extensions.label import LabelType\n",
    "from pystac.extensions.label import LabelClasses\n",
    "from pystac.extensions.label import LabelStatistics\n",
    "\n",
    "from pystac.extensions.version import ItemVersionExtension"
   ]
  },
  {
   "cell_type": "code",
   "execution_count": 4,
   "metadata": {},
   "outputs": [
    {
     "data": {
      "text/html": [
       "&lt;Item id=S2A_10TFK_20220524_0_L2A&gt;"
      ],
      "text/plain": [
       "<Item id=S2A_10TFK_20220524_0_L2A>"
      ]
     },
     "execution_count": 4,
     "metadata": {},
     "output_type": "execute_result"
    }
   ],
   "source": [
    "source_item = pystac.read_file(\n",
    "    \"https://earth-search.aws.element84.com/v0/collections/sentinel-s2-l2a-cogs/items/S2A_10TFK_20220524_0_L2A\"\n",
    ")\n",
    "\n",
    "source_item"
   ]
  },
  {
   "cell_type": "code",
   "execution_count": 5,
   "metadata": {},
   "outputs": [],
   "source": [
    "for t in [\"train\", \"test\", \"validate\"]:\n",
    "    label_item = pystac.Item(\n",
    "        id=f\"label_{t}\",\n",
    "        geometry=source_item.geometry,\n",
    "        bbox=source_item.bbox,\n",
    "        datetime=datetime.utcnow(),\n",
    "        properties={\"ml-aoi:split\": t},\n",
    "    )\n",
    "\n",
    "    label = LabelExtension.ext(label_item, add_if_missing=True)\n",
    "    label.apply(\n",
    "        label_description=\"Land cover labels\",\n",
    "        label_type=LabelType.VECTOR,\n",
    "        label_tasks=[\"segmentation\", \"regression\"],\n",
    "        label_classes=[LabelClasses({\"water\": 1, \"urban\": 2, \"vegetation\": 3})],\n",
    "        label_methods=[\"manual\"],\n",
    "        label_properties=[\"class\"],\n",
    "    )\n",
    "    label.add_source(source_item=source_item)\n",
    "    label.add_geojson_labels(f\"label-{t}.geojson\")\n",
    "\n",
    "    version = ItemVersionExtension(label_item)\n",
    "\n",
    "    version.apply(version=\"0.1\", deprecated=False)\n",
    "\n",
    "    label_item.stac_extensions.append(\n",
    "        \"https://stac-extensions.github.io/version/v1.2.0/schema.json\"\n",
    "    )\n",
    "\n",
    "    pystac.write_file(label_item, dest_href=f\"item-label-{t}.json\")"
   ]
  },
  {
   "cell_type": "code",
   "execution_count": 5,
   "metadata": {},
   "outputs": [],
   "source": []
  },
  {
   "cell_type": "code",
   "execution_count": 7,
   "metadata": {},
   "outputs": [],
   "source": []
  },
  {
   "cell_type": "code",
   "execution_count": 6,
   "metadata": {},
   "outputs": [],
   "source": [
    "for t in [\"train\", \"test\", \"validate\"]:\n",
    "    ml_aoi_item = pystac.Item(\n",
    "        id=f\"ml-aoi-{t}\",\n",
    "        geometry=source_item.geometry,\n",
    "        bbox=source_item.bbox,\n",
    "        datetime=datetime.utcnow(),\n",
    "        properties={\"ml-aoi:split\": t},\n",
    "    )\n",
    "    ml_aoi_item.add_link(\n",
    "        Link(\n",
    "            rel=\"derived_from\",\n",
    "            target=\"https://earth-search.aws.element84.com/v0/collections/sentinel-s2-l2a-cogs/items/S2A_10TFK_20220524_0_L2A\",\n",
    "            extra_fields={\"ml-aoi:role\": \"feature\"},\n",
    "        )\n",
    "    )\n",
    "\n",
    "    ml_aoi_item.add_link(\n",
    "        Link(\n",
    "            rel=\"derived_from\",\n",
    "            target=f\"label-item-{t}.json\",\n",
    "            extra_fields={\"role\": \"ml-aoi:label\"},\n",
    "        )\n",
    "    )\n",
    "\n",
    "    label_asset = Asset(\n",
    "        href=\"labels-v1.geojson\",\n",
    "        description=\"label\",\n",
    "        media_type=pystac.MediaType.GEOJSON,\n",
    "        roles=[\"label\"],\n",
    "        extra_fields={\"ml-aoi:role\": \"label\"},\n",
    "    )\n",
    "\n",
    "    ml_aoi_item.add_asset(key=\"label\", asset=label_asset)\n",
    "\n",
    "    ml_aoi_item.stac_extensions = [\n",
    "        \"https://stac-extensions.github.io/ml-aoi/v0.1.0/schema.json\"\n",
    "    ]\n",
    "\n",
    "    pystac.write_file(ml_aoi_item, dest_href=f\"item-ml-aoi-{t}.json\")"
   ]
  },
  {
   "cell_type": "code",
   "execution_count": 9,
   "metadata": {},
   "outputs": [],
   "source": []
  },
  {
   "cell_type": "code",
   "execution_count": 10,
   "metadata": {},
   "outputs": [],
   "source": []
  },
  {
   "cell_type": "code",
   "execution_count": 11,
   "metadata": {},
   "outputs": [],
   "source": []
  },
  {
   "cell_type": "code",
   "execution_count": 12,
   "metadata": {},
   "outputs": [],
   "source": []
  },
  {
   "cell_type": "code",
   "execution_count": null,
   "metadata": {},
   "outputs": [],
   "source": []
  }
 ],
 "metadata": {
  "kernelspec": {
   "display_name": "Python 3",
   "language": "python",
   "name": "python3"
  },
  "language_info": {
   "codemirror_mode": {
    "name": "ipython",
    "version": 3
   },
   "file_extension": ".py",
   "mimetype": "text/x-python",
   "name": "python",
   "nbconvert_exporter": "python",
   "pygments_lexer": "ipython3",
   "version": "3.10.11"
  },
  "orig_nbformat": 4
 },
 "nbformat": 4,
 "nbformat_minor": 2
}
