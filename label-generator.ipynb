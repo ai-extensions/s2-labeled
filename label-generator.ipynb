{
 "cells": [
  {
   "cell_type": "code",
   "execution_count": 10,
   "metadata": {},
   "outputs": [],
   "source": [
    "import os\n",
    "from osgeo import gdal,ogr, osr\n",
    "gdal.UseExceptions()"
   ]
  },
  {
   "cell_type": "code",
   "execution_count": 2,
   "metadata": {},
   "outputs": [],
   "source": [
    "source = gdal.Open(\"/vsicurl/https://sentinel-cogs.s3.us-west-2.amazonaws.com/sentinel-s2-l2a-cogs/10/T/FK/2021/7/S2B_10TFK_20210713_0_L2A/SCL.tif\")\n",
    "\n",
    "gt_forward=source.GetGeoTransform()\n",
    "\n",
    "scl = source.GetRasterBand(1)"
   ]
  },
  {
   "cell_type": "code",
   "execution_count": 12,
   "metadata": {},
   "outputs": [],
   "source": [
    "def pixel_to_coords(geo_transform, x, y):\n",
    "    \n",
    "    x_min = geo_transform[0]\n",
    "    x_size = geo_transform[1]\n",
    "    y_min = geo_transform[3]\n",
    "    y_size = geo_transform[5]\n",
    "    px = x * x_size + x_min \n",
    "    py = y * y_size + y_min \n",
    "    \n",
    " \n",
    "    srs = osr.SpatialReference()\n",
    "    srs.ImportFromWkt(source.GetProjection())\n",
    "    \n",
    "    srs_4326 = srs.CloneGeogCS()\n",
    "    ct = osr.CoordinateTransformation(srs, srs_4326)\n",
    "    \n",
    "    long, lat, height = ct.TransformPoint(px, py)\n",
    "    \n",
    "    return long, lat"
   ]
  },
  {
   "cell_type": "code",
   "execution_count": 14,
   "metadata": {},
   "outputs": [
    {
     "name": "stderr",
     "output_type": "stream",
     "text": [
      "Warning 1: PROJ: proj_create_from_database: Open of /opt/conda/envs/env_label/share/proj failed\n",
      "Warning 1: The definition of projected CRS EPSG:32610 got from GeoTIFF keys is not the same as the one from the EPSG registry, which may cause issues during reprojection operations. Set GTIFF_SRS_SOURCE configuration option to EPSG to use official parameters (overriding the ones from GeoTIFF keys), or to GEOKEYS to use custom values from GeoTIFF keys and drop the EPSG code.\n"
     ]
    },
    {
     "data": {
      "text/plain": [
       "(-121.79397555246852, 40.626541370770724)"
      ]
     },
     "execution_count": 14,
     "metadata": {},
     "output_type": "execute_result"
    }
   ],
   "source": [
    "pixel_to_coords(gt_forward, 100, 100)"
   ]
  },
  {
   "cell_type": "code",
   "execution_count": 15,
   "metadata": {},
   "outputs": [],
   "source": [
    "\n",
    "field_name = 'class'\n",
    "field_type = ogr.OFTInteger\n",
    "\n",
    "# Create the output Driver\n",
    "out_driver = ogr.GetDriverByName('GeoJSON')\n",
    "\n",
    "# Create the output GeoJSON\n",
    "out_datasource = out_driver.CreateDataSource('labels.geojson')\n",
    "out_layer = out_datasource.CreateLayer('labels.geojson', geom_type=ogr.wkbPolygon )\n",
    "id_field = ogr.FieldDefn(field_name, field_type)\n",
    "out_layer.CreateField(id_field)\n",
    "# Get the output Layer's Feature Definition\n",
    "feature_def = out_layer.GetLayerDefn()\n",
    "\n",
    "for px in range(0, 5490, 240):\n",
    "    \n",
    "    for py in range(0, 5490, 240):\n",
    "    \n",
    "        point = ogr.Geometry(ogr.wkbPoint)\n",
    "        point.AddPoint(*pixel_to_coords(gt_forward, px, py))\n",
    "        \n",
    "        # create a new feature\n",
    "        out_feature = ogr.Feature(feature_def)\n",
    "\n",
    "        # Set new geometry\n",
    "        out_feature.SetGeometry(point)\n",
    "        out_feature.SetField(field_name, int(scl.ReadAsArray(px, py, 1, 1)[0][0]))\n",
    "        # Add new feature to output Layer\n",
    "        out_layer.CreateFeature(out_feature)\n",
    "\n",
    "        # dereference the feature\n",
    "        out_feature = None\n",
    "\n",
    "# Save and close DataSources\n",
    "out_datasource = None"
   ]
  },
  {
   "cell_type": "code",
   "execution_count": null,
   "metadata": {},
   "outputs": [],
   "source": []
  }
 ],
 "metadata": {
  "kernelspec": {
   "display_name": "Python 3",
   "language": "python",
   "name": "python3"
  },
  "language_info": {
   "codemirror_mode": {
    "name": "ipython",
    "version": 3
   },
   "file_extension": ".py",
   "mimetype": "text/x-python",
   "name": "python",
   "nbconvert_exporter": "python",
   "pygments_lexer": "ipython3",
   "version": "3.10.11"
  },
  "orig_nbformat": 4
 },
 "nbformat": 4,
 "nbformat_minor": 2
}
